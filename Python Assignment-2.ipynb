{
 "cells": [
  {
   "cell_type": "markdown",
   "metadata": {},
   "source": [
    "## Task-1"
   ]
  },
  {
   "cell_type": "markdown",
   "metadata": {},
   "source": [
    "### 1. 1 Write a Python Program to implement your own myreduce() function which works exactly like Python's built-in function reduce()\n"
   ]
  },
  {
   "cell_type": "code",
   "execution_count": 1,
   "metadata": {},
   "outputs": [
    {
     "name": "stdout",
     "output_type": "stream",
     "text": [
      "Sum of input values= 29\n",
      "Product of input values=  3780\n"
     ]
    }
   ],
   "source": [
    "#define function for myreduce()\n",
    "def myreduce(functionn,listn):\n",
    "    '''my own function to work like reduce'''\n",
    "    result = functionn(listn)\n",
    "    return result\n",
    "\n",
    "def summation(n):\n",
    "    ''' Definition for sum of each values'''\n",
    "    total=0\n",
    "    for i in n:\n",
    "        total= total + i\n",
    "    return total\n",
    "    \n",
    "def multiplication(n):\n",
    "    ''' Deffinition for multiply all the vlaues'''\n",
    "    mul =1\n",
    "    for i in n:\n",
    "        mul = mul * i\n",
    "    return mul\n",
    "\n",
    "input = [2,5,6,7,9]\n",
    "#calling myreduce function to calculate sum of list \n",
    "res = myreduce(summation,input)\n",
    "print('Sum of input values=',res)\n",
    "#calling myreduce function to do multiply all the nums\n",
    "res1 = myreduce(multiplication,input)\n",
    "print('Product of input values= ',res1)"
   ]
  },
  {
   "cell_type": "markdown",
   "metadata": {},
   "source": [
    "### 1.2 Write a Python program to implement your own myfilter() function which works exactly like Python's built-in function filter()\n"
   ]
  },
  {
   "cell_type": "code",
   "execution_count": 2,
   "metadata": {},
   "outputs": [
    {
     "name": "stdout",
     "output_type": "stream",
     "text": [
      "Divisible by 7 are  [7, 14, 84, 91]\n",
      "Evenn numbers = [8, 12, 14, 78, 84]\n"
     ]
    }
   ],
   "source": [
    "#Defining myfilter function\n",
    "def myfilter(funct,n):\n",
    "    '''My own function work like myfilter'''\n",
    "    result = funct(n)\n",
    "    return result\n",
    "\n",
    "\n",
    "def divisibleby7(list1):\n",
    "    ''' Applying filter  logic for list divisible by 7'''\n",
    "    r =[]\n",
    "    for i in list1:\n",
    "        if (i%7 ==0):\n",
    "            r.append(i)\n",
    "    return r\n",
    "\n",
    "def even_nums(list1):\n",
    "    '''Get the even numbers '''\n",
    "    s = []\n",
    "    for i in list1:\n",
    "        if (i%2==0):\n",
    "            s.append(i)\n",
    "    return s\n",
    "        \n",
    "inplist = [7,8,12,14,45,78,84,91]\n",
    "res = myfilter(divisibleby7,inplist)\n",
    "print('Divisible by 7 are ',res)\n",
    "even = myfilter(even_nums,inplist)\n",
    "print('Evenn numbers =',even)"
   ]
  },
  {
   "cell_type": "markdown",
   "metadata": {},
   "source": [
    "### 2.  Implement List comprehensions to produce the following lists.\n",
    "#### Write List comprehensions to produce the following Lists\n",
    "##### ['A', 'C', 'A', 'D', 'G', 'I', ’L’, ‘ D’]\n",
    "##### ['x', 'xx', 'xxx', 'xxxx', 'y', 'yy', 'yyy', 'yyyy', 'z', 'zz', 'zzz', 'zzzz']\n",
    "##### ['x', 'y', 'z', 'xx', 'yy', 'zz', 'xx', 'yy', 'zz', 'xxxx', 'yyyy', 'zzzz']\n",
    "##### [[2], [3], [4], [3], [4], [5], [4], [5], [6]]\n",
    "##### [[2, 3, 4, 5], [3, 4, 5, 6], [4, 5, 6, 7], [5, 6, 7, 8]]\n",
    "##### [(1, 1), (2, 1), (3, 1), (1, 2), (2, 2), (3, 2), (1, 3), (2, 3), (3, 3)]"
   ]
  },
  {
   "cell_type": "code",
   "execution_count": 3,
   "metadata": {},
   "outputs": [
    {
     "data": {
      "text/plain": [
       "['A', 'C', 'A', 'D', 'G', 'I', 'L', 'D']"
      ]
     },
     "execution_count": 3,
     "metadata": {},
     "output_type": "execute_result"
    }
   ],
   "source": [
    "string = \"ACADGILD\"\n",
    "[i for i in string ]"
   ]
  },
  {
   "cell_type": "code",
   "execution_count": 4,
   "metadata": {},
   "outputs": [
    {
     "data": {
      "text/plain": [
       "['X', 'XX', 'XXX', 'XXXX', 'Y', 'YY', 'YYY', 'YYYY', 'Z', 'ZZ', 'ZZZ', 'ZZZZ']"
      ]
     },
     "execution_count": 4,
     "metadata": {},
     "output_type": "execute_result"
    }
   ],
   "source": [
    "list1 = ['X','Y','Z']\n",
    "[i*j for i in list1 for j in range(1,5)]"
   ]
  },
  {
   "cell_type": "code",
   "execution_count": 5,
   "metadata": {},
   "outputs": [
    {
     "data": {
      "text/plain": [
       "['X', 'Y', 'Z', 'XX', 'YY', 'ZZ', 'XXX', 'YYY', 'ZZZ', 'XXXX', 'YYYY', 'ZZZZ']"
      ]
     },
     "execution_count": 5,
     "metadata": {},
     "output_type": "execute_result"
    }
   ],
   "source": [
    "list2 = ['X','Y','Z']\n",
    "[j*i for i in range(1,5) for j in list2]"
   ]
  },
  {
   "cell_type": "code",
   "execution_count": 6,
   "metadata": {},
   "outputs": [
    {
     "data": {
      "text/plain": [
       "[[2], [3], [4], [3], [4], [5], [4], [5], [6]]"
      ]
     },
     "execution_count": 6,
     "metadata": {},
     "output_type": "execute_result"
    }
   ],
   "source": [
    "list3 = [2,3,4]\n",
    "[[i+j] for i in list3 for j in range(0,3)]"
   ]
  },
  {
   "cell_type": "code",
   "execution_count": 7,
   "metadata": {},
   "outputs": [
    {
     "data": {
      "text/plain": [
       "[[2, 3, 4], [3, 4, 5], [4, 5, 6], [5, 6, 7], [6, 7, 8]]"
      ]
     },
     "execution_count": 7,
     "metadata": {},
     "output_type": "execute_result"
    }
   ],
   "source": [
    "list4 = [2,3,4,5]\n",
    "[[i+j for i in list3] for j in range(0,5)]"
   ]
  },
  {
   "cell_type": "code",
   "execution_count": 8,
   "metadata": {},
   "outputs": [
    {
     "data": {
      "text/plain": [
       "[(1, 1), (2, 1), (3, 1), (1, 2), (2, 2), (3, 2), (1, 3), (2, 3), (3, 3)]"
      ]
     },
     "execution_count": 8,
     "metadata": {},
     "output_type": "execute_result"
    }
   ],
   "source": [
    "list5 = [1,2,3]\n",
    "[ (j,i) for i in range(1,4) for j in list5]"
   ]
  },
  {
   "cell_type": "markdown",
   "metadata": {},
   "source": [
    "#### 3. Implement a function longestWord() that takes a list of words and returns the longest one."
   ]
  },
  {
   "cell_type": "code",
   "execution_count": 9,
   "metadata": {},
   "outputs": [
    {
     "name": "stdout",
     "output_type": "stream",
     "text": [
      "Longest Word==> SV university\n"
     ]
    }
   ],
   "source": [
    "def longestWord(listw):\n",
    "    '''To get longest words from list'''\n",
    "    temp = len(listw[0])\n",
    "    res = listw[0]\n",
    "    for i in listw:\n",
    "        if temp < len(i):\n",
    "            res = i\n",
    "    return res\n",
    "\n",
    "n = ['aaa','bb','CCCCCC','vinod','reddy','SV university']\n",
    "print('Longest Word==>',longestWord(n))\n",
    "    "
   ]
  },
  {
   "cell_type": "markdown",
   "metadata": {},
   "source": [
    "## Task-2 "
   ]
  },
  {
   "cell_type": "markdown",
   "metadata": {},
   "source": [
    "#### 1.1 Write a Python Program(with class concepts) to find the area of the triangle using the below formula.\n",
    "##### area = (s*(s-a)*(s-b)*(s-c)) ** 0.5\n",
    "##### Function to take the length of the sides of triangle from user should be defined in the parent class and function to calculate the area should be defined in subclass.\n"
   ]
  },
  {
   "cell_type": "code",
   "execution_count": 10,
   "metadata": {},
   "outputs": [
    {
     "name": "stdout",
     "output_type": "stream",
     "text": [
      "Area of triangle= 18.0\n"
     ]
    }
   ],
   "source": [
    "class supe():\n",
    "    def __init__(self,a,b,c):\n",
    "        self.a = a\n",
    "        self.b = b\n",
    "        self.c = c\n",
    "#sub class \n",
    "class areaSub(supe):\n",
    "    def calc(self):\n",
    "        ''' Calculating Area..'''\n",
    "        s = (self.a + self.b + self.c)/2\n",
    "        area = (s*(s - self.a)*(s -self.b)* (s -self.c))* 0.5\n",
    "        #print('Area=',area)\n",
    "        return area\n",
    "\n",
    "ar = areaSub(3,4,5)\n",
    "print('Area of triangle=',ar.calc())\n",
    "\n"
   ]
  },
  {
   "cell_type": "markdown",
   "metadata": {},
   "source": [
    "#### 1.2 Write a function filter_long_words() that takes a list of words and an integer n and returns the list of words that are longer than n.\n"
   ]
  },
  {
   "cell_type": "code",
   "execution_count": 2,
   "metadata": {},
   "outputs": [
    {
     "name": "stdout",
     "output_type": "stream",
     "text": [
      "Enter a number5\n",
      "['reddy', 'Banglore', 'NishuuuNair']\n"
     ]
    }
   ],
   "source": [
    "def filter_long_words(list1,n):\n",
    "    res =[]\n",
    "    for i in list1:\n",
    "        if (len(i)>= int(n)):\n",
    "            res.append(i)\n",
    "    return res\n",
    "\n",
    "listnk = ['aaa','nani','reddy','Banglore','TCS','NishuuuNair']\n",
    "num=input('Enter a number')\n",
    "print(filter_long_words(listnk,num))\n",
    "\n",
    "\n",
    "\n"
   ]
  },
  {
   "cell_type": "markdown",
   "metadata": {},
   "source": [
    "#### 2.1 Write a Python program using function concept that maps list of words into a list of integers representing the lengths of the corresponding words .\n",
    "##### Hint: If a list [ ab,cde,erty] is passed on to the python function output should come as [2,3,4] Here 2,3 and 4 are the lengths of the words in the list.\n"
   ]
  },
  {
   "cell_type": "code",
   "execution_count": 16,
   "metadata": {},
   "outputs": [
    {
     "name": "stdout",
     "output_type": "stream",
     "text": [
      "Length of each value is = [2, 3, 4, 5, 5, 7]\n"
     ]
    }
   ],
   "source": [
    "def find_length(list1):\n",
    "    '''finding length of each word in a list'''\n",
    "    res1=[]\n",
    "    for i in list1:\n",
    "        res1.append(len(i))\n",
    "    return res1\n",
    "\n",
    "inp=['ab','cde','erty','vinod','kumar','inueron']\n",
    "print('Length of each value is =',find_length(inp))"
   ]
  },
  {
   "cell_type": "markdown",
   "metadata": {},
   "source": [
    "#### 2.2 Write a Python function which takes a character (i.e. a string of length 1) and returns True if it is a vowel, False otherwise.\n"
   ]
  },
  {
   "cell_type": "code",
   "execution_count": 1,
   "metadata": {},
   "outputs": [
    {
     "name": "stdout",
     "output_type": "stream",
     "text": [
      "Enter a Character b/w (A-Z)=a\n",
      "True\n"
     ]
    }
   ],
   "source": [
    "def find_vowel_or_not(char1):\n",
    "    '''Finding given is Vowel or not'''\n",
    "    vowel = ['a','e','i','o','u','A','E','I','O','U']\n",
    "    res = ' '\n",
    "    if char1 in vowel:\n",
    "        return True\n",
    "    else:\n",
    "        return False\n",
    "\n",
    "char = input('Enter a Character b/w (A-Z)=')\n",
    "print(find_vowel_or_not(char))\n",
    "        \n",
    "    "
   ]
  }
 ],
 "metadata": {
  "kernelspec": {
   "display_name": "Python 3",
   "language": "python",
   "name": "python3"
  },
  "language_info": {
   "codemirror_mode": {
    "name": "ipython",
    "version": 3
   },
   "file_extension": ".py",
   "mimetype": "text/x-python",
   "name": "python",
   "nbconvert_exporter": "python",
   "pygments_lexer": "ipython3",
   "version": "3.7.4"
  }
 },
 "nbformat": 4,
 "nbformat_minor": 2
}
