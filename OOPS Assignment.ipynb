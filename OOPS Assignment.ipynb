{
 "cells": [
  {
   "cell_type": "markdown",
   "metadata": {},
   "source": [
    "### OOPS assignment  Same method is present in 2 Classes we need to access both "
   ]
  },
  {
   "cell_type": "code",
   "execution_count": 1,
   "metadata": {},
   "outputs": [
    {
     "name": "stdout",
     "output_type": "stream",
     "text": [
      "Chaild class \n",
      "Taste method in Sweet Class\n",
      "Taste method in Fruite Classs\n"
     ]
    }
   ],
   "source": [
    "class Sweet():\n",
    "    def taste():\n",
    "        print('Taste method in Sweet Class')\n",
    "    \n",
    "    \n",
    "class Fruite():\n",
    "    def taste():\n",
    "        print('Taste method in Fruite Classs')\n",
    "        \n",
    "class Orange(Sweet,Fruite):\n",
    "        print('Chaild class ')\n",
    "        Sweet.taste()\n",
    "        Fruite.taste()"
   ]
  },
  {
   "cell_type": "code",
   "execution_count": null,
   "metadata": {},
   "outputs": [],
   "source": []
  },
  {
   "cell_type": "code",
   "execution_count": null,
   "metadata": {},
   "outputs": [],
   "source": []
  }
 ],
 "metadata": {
  "kernelspec": {
   "display_name": "Python 3",
   "language": "python",
   "name": "python3"
  },
  "language_info": {
   "codemirror_mode": {
    "name": "ipython",
    "version": 3
   },
   "file_extension": ".py",
   "mimetype": "text/x-python",
   "name": "python",
   "nbconvert_exporter": "python",
   "pygments_lexer": "ipython3",
   "version": "3.6.5"
  }
 },
 "nbformat": 4,
 "nbformat_minor": 2
}
